{
 "cells": [
  {
   "cell_type": "code",
   "execution_count": 2,
   "id": "f53c641f-19e6-46cf-b5ea-137bc5936e15",
   "metadata": {},
   "outputs": [
    {
     "name": "stdout",
     "output_type": "stream",
     "text": [
      "Python 3.13.3\n"
     ]
    }
   ],
   "source": [
    "#python start\n",
    "!python -V"
   ]
  },
  {
   "cell_type": "code",
   "execution_count": 3,
   "id": "d5462ea8",
   "metadata": {},
   "outputs": [
    {
     "name": "stdout",
     "output_type": "stream",
     "text": [
      "pip 25.1.1 from C:\\Users\\user\\AppData\\Local\\Programs\\Python\\Python313\\Lib\\site-packages\\pip (python 3.13)\n",
      "\n"
     ]
    }
   ],
   "source": [
    "!pip -V"
   ]
  },
  {
   "cell_type": "code",
   "execution_count": 4,
   "id": "faa37abb",
   "metadata": {},
   "outputs": [
    {
     "name": "stdout",
     "output_type": "stream",
     "text": [
      "Python 3.13.3\n"
     ]
    }
   ],
   "source": [
    "!python -V"
   ]
  },
  {
   "cell_type": "markdown",
   "id": "afeda6e3",
   "metadata": {},
   "source": [
    "1. 내장함수"
   ]
  },
  {
   "cell_type": "markdown",
   "id": "50603282",
   "metadata": {},
   "source": [
    "#"
   ]
  },
  {
   "cell_type": "markdown",
   "id": "1924fdb0",
   "metadata": {},
   "source": [
    "# 내장함수"
   ]
  },
  {
   "cell_type": "code",
   "execution_count": 16,
   "id": "83524108",
   "metadata": {},
   "outputs": [
    {
     "name": "stdout",
     "output_type": "stream",
     "text": [
      "3\n",
      "3.2\n",
      "False\n",
      "True\n"
     ]
    }
   ],
   "source": [
    "# abs 절대값으로 함수변환\n",
    "print(abs(-3))\n",
    "print(abs(-3.2))\n",
    "# all\n",
    "print(all([0,0,0]))\n",
    "print(all([])) # 빈 리스트는 true"
   ]
  },
  {
   "cell_type": "code",
   "execution_count": 24,
   "id": "32ad15be",
   "metadata": {},
   "outputs": [
    {
     "name": "stdout",
     "output_type": "stream",
     "text": [
      "True\n",
      "False\n",
      "False\n",
      "False\n"
     ]
    }
   ],
   "source": [
    "#any\n",
    "print(any([0,3,4,13,40,0]))\n",
    "print(any([0,0,0]))\n",
    "print(any([0,False,\"\"]))\n",
    "print(any([])) # 빈 리스트는 false"
   ]
  },
  {
   "cell_type": "code",
   "execution_count": 35,
   "id": "ca7d7a94",
   "metadata": {},
   "outputs": [
    {
     "name": "stdout",
     "output_type": "stream",
     "text": [
      "A\n",
      "a\n",
      "65\n",
      "97\n",
      "가\n",
      "\u001e\n",
      "\u001e\n"
     ]
    }
   ],
   "source": [
    "#아스키코드\n",
    "print(chr(65)) # 65는 아스키코드 A\n",
    "print(chr(97)) # 97는 아스키코드 a\n",
    "print(ord('A')) # A의 아스키코드\n",
    "print(ord('a')) # a의 아스키코드\n",
    "#유니코드\n",
    "print(chr(44032)) # 44032는 아스키코드 가\n",
    "ox=30 # 16진수 값을 받은 변수\n",
    "print(chr(int(hex(ox)[2:], 16))) # 16진수 값을 유니코드로 변환\n",
    "print(chr(int(hex(ox), 16))) # 16진수 값을 유니코드로 변환 버전이 좋아서 이제 아래걸로 가능"
   ]
  },
  {
   "cell_type": "code",
   "execution_count": 36,
   "id": "cb219ff0",
   "metadata": {},
   "outputs": [
    {
     "name": "stdout",
     "output_type": "stream",
     "text": [
      "['__add__', '__class__', '__class_getitem__', '__contains__', '__delattr__', '__delitem__', '__dir__', '__doc__', '__eq__', '__format__', '__ge__', '__getattribute__', '__getitem__', '__getstate__', '__gt__', '__hash__', '__iadd__', '__imul__', '__init__', '__init_subclass__', '__iter__', '__le__', '__len__', '__lt__', '__mul__', '__ne__', '__new__', '__reduce__', '__reduce_ex__', '__repr__', '__reversed__', '__rmul__', '__setattr__', '__setitem__', '__sizeof__', '__str__', '__subclasshook__', 'append', 'clear', 'copy', 'count', 'extend', 'index', 'insert', 'pop', 'remove', 'reverse', 'sort']\n"
     ]
    }
   ],
   "source": [
    "#dir 객체가 가지고 있는 함수로 보여줌\n",
    "print(dir([1,2,3])) # 리스트가 가지고 있는 함수들\n",
    "dir((1,2,3))\n",
    "#dir((1,2,3))\n"
   ]
  },
  {
   "cell_type": "code",
   "execution_count": 45,
   "id": "9fb9d7aa",
   "metadata": {},
   "outputs": [
    {
     "name": "stdout",
     "output_type": "stream",
     "text": [
      "4.25\n",
      "4\n",
      "1\n",
      "(4, 1)\n"
     ]
    }
   ],
   "source": [
    "print(17/4)\n",
    "print(17//4)\n",
    "print(17%4)\n",
    "print(divmod(17,4))"
   ]
  },
  {
   "cell_type": "code",
   "execution_count": 50,
   "id": "54782b34",
   "metadata": {},
   "outputs": [
    {
     "name": "stdout",
     "output_type": "stream",
     "text": [
      "apple\n",
      "banana\n",
      "cherry\n",
      "mango\n",
      "kiwi\n",
      "1 번째 apple\n",
      "2 번째 banana\n",
      "3 번째 cherry\n",
      "4 번째 mango\n",
      "5 번째 kiwi\n"
     ]
    }
   ],
   "source": [
    "#for x in 순회가능한 객체:\n",
    "#print(x)\n",
    "#for x in range(1,10) range는 그냥 범위를 나타내는 목차같은 개념. 실체화가 안되어있음. 속도up\n",
    "fruit = ['apple', 'banana', 'cherry', 'mango', 'kiwi']\n",
    "for x in fruit:\n",
    "    print(x)\n",
    "for i, f in enumerate(fruit):\n",
    "    print((i+1),\"번째\",f)\n"
   ]
  },
  {
   "cell_type": "code",
   "execution_count": 54,
   "id": "c50457fe",
   "metadata": {},
   "outputs": [
    {
     "name": "stdout",
     "output_type": "stream",
     "text": [
      "apple cat 1\n",
      "banana dog 2\n",
      "cherry tiger 3\n",
      "mango lion 4\n",
      "kiwi bear 5\n"
     ]
    }
   ],
   "source": [
    "fruit = ['apple', 'banana', 'cherry', 'mango', 'kiwi']\n",
    "animais = ['cat', 'dog', 'tiger', 'lion', 'bear']\n",
    "for a, (i, f) in enumerate(zip(fruit, animais), start=1):\n",
    "    print(i, f,a)"
   ]
  },
  {
   "cell_type": "code",
   "execution_count": null,
   "id": "0d41271c",
   "metadata": {},
   "outputs": [
    {
     "name": "stdout",
     "output_type": "stream",
     "text": [
      "positive\n",
      "positive\n"
     ]
    },
    {
     "ename": "NameError",
     "evalue": "name 'positive' is not defined",
     "output_type": "error",
     "traceback": [
      "\u001b[31m---------------------------------------------------------------------------\u001b[39m",
      "\u001b[31mNameError\u001b[39m                                 Traceback (most recent call last)",
      "\u001b[36mCell\u001b[39m\u001b[36m \u001b[39m\u001b[32mIn[63]\u001b[39m\u001b[32m, line 22\u001b[39m\n\u001b[32m     20\u001b[39m \u001b[38;5;66;03m#m3 / #list comprehension\u001b[39;00m\n\u001b[32m     21\u001b[39m \u001b[38;5;28;01mif\u001b[39;00m \u001b[38;5;28many\u001b[39m(x \u001b[38;5;129;01min\u001b[39;00m text \u001b[38;5;28;01mfor\u001b[39;00m x \u001b[38;5;129;01min\u001b[39;00m positive_words):\n\u001b[32m---> \u001b[39m\u001b[32m22\u001b[39m     \u001b[38;5;28mprint\u001b[39m(\u001b[43mpositive\u001b[49m,\u001b[38;5;28mlen\u001b[39m(positive))\n",
      "\u001b[31mNameError\u001b[39m: name 'positive' is not defined"
     ]
    }
   ],
   "source": [
    "positive_words = ['good', 'happy', 'joyful', 'excellent', 'fantastic']\n",
    "negative_words = ['bad', 'sad', 'angry', 'terrible', 'awful']\n",
    "text = input(\"tell me how you feel : \")\n",
    "#m1\n",
    "for x in positive_words:\n",
    "    if x in text:\n",
    "        print(\"positive\")\n",
    "        break\n",
    "for x in negative_words:\n",
    "    if x in text:\n",
    "        print(\"negative\")\n",
    "        break\n",
    "#m2\n",
    "if any(x in text for x in positive_words):\n",
    "    print(\"positive\")\n",
    "elif any(x in text for x in negative_words):\n",
    "    print(\"negative\")\n",
    "else:\n",
    "    print(\"neutral\")    \n",
    "#m3 / #list comprehension\n",
    "pos = [x for x in positive_words if x in text]\n",
    "print(pos, len(pos))\n",
    "neg = [x for x in negative_words if x in text]\n",
    "print(neg, len(neg))    \n",
    "if len(pos) > len(neg):\n",
    "    print(\"positive\")\n",
    "elif len(pos) < len(neg):\n",
    "    print(\"negative\")\n",
    "else:\n",
    "    print(\"neutral\")\n",
    "    "
   ]
  },
  {
   "cell_type": "code",
   "execution_count": 8,
   "id": "38ee8214",
   "metadata": {},
   "outputs": [
    {
     "name": "stderr",
     "output_type": "stream",
     "text": [
      "java version \"24.0.1\" 2025-04-15\n",
      "Java(TM) SE Runtime Environment (build 24.0.1+9-30)\n",
      "Java HotSpot(TM) 64-Bit Server VM (build 24.0.1+9-30, mixed mode, sharing)\n"
     ]
    }
   ],
   "source": [
    "!java -version"
   ]
  },
  {
   "cell_type": "code",
   "execution_count": 5,
   "id": "8e0291a7",
   "metadata": {},
   "outputs": [
    {
     "name": "stdout",
     "output_type": "stream",
     "text": [
      "['나쁘다']\n"
     ]
    }
   ],
   "source": [
    "# !pip install konlpy\n",
    "from konlpy.tag import Okt\n",
    "\n",
    "# 한글 형태소 분석기\n",
    "okt = Okt()\n",
    "\n",
    "# positive_words = [\"좋다\",\"행복\",\"멋지다\",\"최고\",\"사랑\"]\n",
    "# negative_words = [\"싫다\",\"슬픔\",\"짜증\",\"최악\",\"나쁘다\"]\n",
    "text = input(\"당신의 기분을 한 문장으로 표현해주세요.\")\n",
    "\n",
    "words = okt.morphs(text, stem=True) # 형태소 단위로 분리\n",
    "\n",
    "print(words)"
   ]
  },
  {
   "cell_type": "markdown",
   "id": "78d6cac9",
   "metadata": {},
   "source": [
    "2. filter / map"
   ]
  },
  {
   "cell_type": "code",
   "execution_count": 18,
   "id": "6bc4dcd0",
   "metadata": {},
   "outputs": [
    {
     "name": "stdout",
     "output_type": "stream",
     "text": [
      "[1, 2, 4, 6, 7, 10]\n"
     ]
    }
   ],
   "source": [
    "# filter : true인 값만 남김.\n",
    "#여러가지가 줄어드는 것\n",
    "data = [1, 2, -3, 4, -5, 6, 7, -8, -9, 10]\n",
    "\n",
    "def pos(x):\n",
    "    return x>0\n",
    "filter(pos,data) # True인 값만 남김\n",
    "print(list(filter(pos,data))) # filter는 객체로 반환됨\n",
    "#map\n",
    "# 데이터 개수가 같고, 스케일이 달라지는것\n"
   ]
  },
  {
   "cell_type": "code",
   "execution_count": 20,
   "id": "390c0d4f",
   "metadata": {},
   "outputs": [
    {
     "name": "stdout",
     "output_type": "stream",
     "text": [
      "[1, 2, 4, 6, 7, 10]\n"
     ]
    }
   ],
   "source": [
    "#lambda : 익명함수, 이름이 없는 함수 활용\n",
    "data = [1, 2, -3, 4, -5, 6, 7, -8, -9, 10]\n",
    "print(list(filter(lambda v : v>0,data)))"
   ]
  },
  {
   "cell_type": "code",
   "execution_count": 21,
   "id": "354a0445",
   "metadata": {},
   "outputs": [
    {
     "name": "stdout",
     "output_type": "stream",
     "text": [
      "[1, 4, 9, 16, 25, 36, 49, 64, 81, 100]\n"
     ]
    }
   ],
   "source": [
    "data = [1, 2, -3, 4, -5, 6, 7, -8, -9, 10]\n",
    "def pow(v):\n",
    "    return v**2\n",
    "print(list(map(pow, data))) # map은 함수와 데이터를 받아서 함수가 적용된 객체를 반환함"
   ]
  },
  {
   "cell_type": "code",
   "execution_count": null,
   "id": "acaa4cb1",
   "metadata": {},
   "outputs": [],
   "source": [
    "data = [1, 2, -3, 4, -5, 6, 7, -8, -9, 10]\n",
    "print(list(map(lambda v : v**2, data))) # map은 함수와 데이터를 받아서 함수가 적용된 객체를 반환함"
   ]
  },
  {
   "cell_type": "code",
   "execution_count": 23,
   "id": "d1d9db55",
   "metadata": {},
   "outputs": [
    {
     "name": "stdout",
     "output_type": "stream",
     "text": [
      "[1, 3, 5, 7, 9]\n",
      "[2, 4, 6, 8, 10]\n",
      "[11, 12, 13, 14, 15, 16, 17, 18, 19, 20]\n",
      "[-9, -8, -7, -6, -5, -4, -3, -2, -1, 0]\n",
      "[10, 20, 30, 40, 50, 60, 70, 80, 90, 100]\n",
      "[11, 24, 39, 56, 75, 96, 119, 144, 171, 200]\n"
     ]
    }
   ],
   "source": [
    "lis = list(range(1,11))\n",
    "def odd(x):\n",
    "    return x%2==1\n",
    "def even(x): #조건의 느낌이고고\n",
    "    return x%2==0   \n",
    "def add(x):\n",
    "    return x+10 \n",
    "def sub(x): # 여기부턴 수식의 느낌\n",
    "    return x-10\n",
    "def mul(x):\n",
    "    return x*10\n",
    "def addmul(x):\n",
    "    return (x+10)*x\n",
    "print(list(filter(odd, lis))) # 홀수만 남김\n",
    "print(list(filter(even, lis))) # 짝수만 남김\n",
    "print(list(map(add, lis))) # 10을 더함\n",
    "print(list(map(sub, lis))) # 10을 뺌\n",
    "print(list(map(mul, lis))) # 10을 곱함\n",
    "print(list(map(addmul, lis))) # 10을 더하고 곱함\n"
   ]
  },
  {
   "cell_type": "code",
   "execution_count": null,
   "id": "2a7ee6e6",
   "metadata": {},
   "outputs": [
    {
     "name": "stdout",
     "output_type": "stream",
     "text": [
      "5\n",
      "o\n",
      "(104, 101, 108, 108, 111)\n"
     ]
    }
   ],
   "source": [
    "#max\n",
    "print(max([1,2,3,4,5]))\n",
    "print(max(\"hello\")) # 문자열은 아스키코드로 비교\n",
    "print((ord('h'), ord('e'), ord('l'),ord('l'),ord('o'))) # 문자 비교는 아스키코드로 비교"
   ]
  },
  {
   "cell_type": "code",
   "execution_count": 5,
   "id": "a48c4186",
   "metadata": {},
   "outputs": [
    {
     "name": "stdout",
     "output_type": "stream",
     "text": [
      "1\n",
      "e\n",
      "(104, 101, 108, 108, 111)\n"
     ]
    }
   ],
   "source": [
    "#min\n",
    "print(min([1,2,3,4,5]))\n",
    "print(min(\"hello\")) # 문자열은 아스키코드로 비교\n",
    "print((ord('h'), ord('e'), ord('l'),ord('l'),ord('o'))) # 문자 비교는 아스키코드로 비교"
   ]
  },
  {
   "cell_type": "code",
   "execution_count": 6,
   "id": "a3369bb5",
   "metadata": {},
   "outputs": [],
   "source": [
    "# return과 print의 차이점\n",
    "\n",
    "def test(x):\n",
    "    return x[0] # 함수 대신에 그 값을 대체한다. 함수자리에 값을 준다.\n",
    "def test2(x):\n",
    "    print(x)\n",
    "    "
   ]
  },
  {
   "cell_type": "code",
   "execution_count": 8,
   "id": "f78de80d",
   "metadata": {},
   "outputs": [
    {
     "name": "stdout",
     "output_type": "stream",
     "text": [
      "8\n",
      "65536\n",
      "4294967296\n",
      "18446744073709551616\n"
     ]
    }
   ],
   "source": [
    "#pow\n",
    "print(pow(2,3)) # 2의 3제곱\n",
    "print(pow(2,16)) # 2의 3제곱\n",
    "print(pow(2,32)) # 2의 3제곱\n",
    "print(pow(2,64)) # 2의 3제곱"
   ]
  },
  {
   "cell_type": "code",
   "execution_count": 9,
   "id": "c43490e2",
   "metadata": {},
   "outputs": [
    {
     "name": "stdout",
     "output_type": "stream",
     "text": [
      "3.14\n",
      "3.142\n",
      "3.1416\n"
     ]
    }
   ],
   "source": [
    "#round\n",
    "print(round(3.141592, 2)) # 소수점 둘째자리까지\n",
    "print(round(3.141592, 3)) # 소수점 셋째자리까지\n",
    "print(round(3.141592, 4)) # 소수점 넷째자리 까지\n"
   ]
  },
  {
   "cell_type": "code",
   "execution_count": 10,
   "id": "94e595c6",
   "metadata": {},
   "outputs": [
    {
     "name": "stdout",
     "output_type": "stream",
     "text": [
      "3\n",
      "3\n"
     ]
    }
   ],
   "source": [
    "#floor # math.floor()는 소수점 이하를 버림\n",
    "import math\n",
    "print(math.floor(3.141592)) # 소수점 이하를 버림\n",
    "print(math.floor(3.999999)) # 소수점 이하를 버림"
   ]
  },
  {
   "cell_type": "code",
   "execution_count": null,
   "id": "f8060573",
   "metadata": {},
   "outputs": [
    {
     "name": "stdout",
     "output_type": "stream",
     "text": [
      "3.141592653589793\n",
      "3.141592\n",
      "3.141592\n"
     ]
    }
   ],
   "source": [
    "#f스트링\n",
    "pi = 3.141592\n",
    "print(math.pi) # math 모듈의 pi 상수\n",
    "print(pi) # 직접 정의한 pi 상수\n",
    "print(f\"{pi:.6f}\") # 소수점 6자리까지 출력"
   ]
  },
  {
   "cell_type": "code",
   "execution_count": 17,
   "id": "eaeb707c",
   "metadata": {},
   "outputs": [
    {
     "name": "stdout",
     "output_type": "stream",
     "text": [
      "[0, 1, 2, 3, 4, 5, 6, 7, 8, 9]\n",
      "[0, 2, 4, 6, 8]\n",
      "[10, 9, 8, 7, 6, 5, 4, 3, 2, 1]\n"
     ]
    }
   ],
   "source": [
    "print(list(range(0,10,1))) # 0부터 10까지 1씩 증가하는 범위\n",
    "print(list(range(0,10,2))) # 리스트로 변환하여 출력\n",
    "print(list(range(10,0,-1)))"
   ]
  },
  {
   "cell_type": "code",
   "execution_count": 20,
   "id": "767a9e9f",
   "metadata": {},
   "outputs": [
    {
     "name": "stdout",
     "output_type": "stream",
     "text": [
      "[1, 2, 2, 3, 4, 4, 5, 5, 6, 7, 8, 9]\n",
      "[9, 8, 7, 6, 5, 5, 4, 4, 3, 2, 2, 1]\n"
     ]
    }
   ],
   "source": [
    "#sorted(iterable) 정렬된 리스트로 리턴\n",
    "s0 = [3,2,4,5,1,2,4,5,6,7,8,9]\n",
    "s1 = sorted(s0) # 오름차순 정렬\n",
    "print(s1) # 정렬된 리스트 출력\n",
    "s2 = sorted(s0, reverse=True) # 내림차순 정렬\n",
    "print(s2) # 내림차순 정렬된 리스트 출력\n"
   ]
  },
  {
   "cell_type": "code",
   "execution_count": 21,
   "id": "2205a9a8",
   "metadata": {},
   "outputs": [
    {
     "name": "stdout",
     "output_type": "stream",
     "text": [
      "23 <class 'int'>\n",
      "23 <class 'str'>\n",
      "23 <class 'int'>\n"
     ]
    }
   ],
   "source": [
    "num = 23\n",
    "st = str(num) # 숫자를 문자열로 변환\n",
    "print(num,type(num)) # 문자열로 변환된 숫자 출력\n",
    "print(st, type(st)) # 문자열로 변환된 숫자 출력\n",
    "num2 = int(st) # 문자열을 숫자로 변환\n",
    "print(num2, type(num2)) # 숫자로 변환된 문자열 출력"
   ]
  },
  {
   "cell_type": "code",
   "execution_count": 31,
   "id": "7005a137",
   "metadata": {},
   "outputs": [
    {
     "name": "stdout",
     "output_type": "stream",
     "text": [
      "56\n",
      "55\n",
      "30\n",
      "2550\n"
     ]
    }
   ],
   "source": [
    "s3 = [3,2,4,5,1,2,4,5,6,7,8,9]\n",
    "sum(s0) # 리스트의 합\n",
    "print(sum(s0)) # 리스트의 합\n",
    "print(sum(list(range(1,11)))) # 1부터 10까지의 합\n",
    "print(sum(list(range(0,11,2)))) # 1부터 10까지의 합\n",
    "print(sum(list(range(0,101,2)))) # 1부터 10까지의 합"
   ]
  },
  {
   "cell_type": "code",
   "execution_count": 34,
   "id": "13c4e4db",
   "metadata": {},
   "outputs": [
    {
     "name": "stdout",
     "output_type": "stream",
     "text": [
      " C ����̺��� �������� �̸��� �����ϴ�.\n",
      " ���� �Ϸ� ��ȣ: CE6B-3D38\n",
      "\n",
      " c:\\csh ���͸�\n",
      "\n",
      "[.]                  [.ipynb_checkpoints] myserver.bat\n",
      "py01.ipynb           test.text            test.txt\n",
      "[Untitled Folder]    Untitled.ipynb       \n",
      "               5�� ����              13,391 ����Ʈ\n",
      "               3�� ���͸�  15,412,289,536 ����Ʈ ����\n"
     ]
    }
   ],
   "source": [
    "!dir/w\n"
   ]
  },
  {
   "cell_type": "code",
   "execution_count": 54,
   "id": "91043e10",
   "metadata": {},
   "outputs": [
    {
     "name": "stdout",
     "output_type": "stream",
     "text": [
      "제가 프로그래밍으로 내용을 덮어쓰기하였습니다.\n",
      "\n",
      "\n"
     ]
    }
   ],
   "source": [
    "#open/파일읽기\n",
    "\n",
    "f = open(\"c:\\\\csh\\\\test.txt\", \"r\",encoding=\"utf-8\") # 파일 열기(읽기 모드), // w = 쓰기보드, r = 읽기모드, a = 추가모드\n",
    "contents = f.read() #괄호 안에 숫자를 넣으면 그만큼의 글자를 읽음 // \n",
    "line = f.readline() # 한 줄 읽기\n",
    "print(contents)\n",
    "print(line) # 파일 내용 출력\n",
    "f.close() # 파일 닫기  // 항상 파일을 열었으면 닫아야함.\n"
   ]
  },
  {
   "cell_type": "code",
   "execution_count": 55,
   "id": "ea083fee",
   "metadata": {},
   "outputs": [
    {
     "name": "stdout",
     "output_type": "stream",
     "text": [
      "파일에 내용이 작성되었습니다\n"
     ]
    }
   ],
   "source": [
    "#open//파일쓰기//수정\n",
    "\n",
    "f = open(\"c:\\\\csh\\\\test.txt\", \"w\",encoding=\"utf-8\") # 파일 쓰기(쓰기 모드), // w = 쓰기보드, r = 읽기모드, a = 추가모드\n",
    "contents = f.write(\"제가 프로그래밍으로 내용을 덮어쓰기하였습니다.\\n\") #기존의 내용이 사라지고, 위에 덮어쓰기 됨.\n",
    "print(\"파일에 내용이 작성되었습니다\") # 파일 내용 출력\n",
    "f.close() # 파일 닫기  // 항상 파일을 열었으면 닫아야함."
   ]
  },
  {
   "cell_type": "code",
   "execution_count": 49,
   "id": "1929db0a",
   "metadata": {},
   "outputs": [
    {
     "name": "stdout",
     "output_type": "stream",
     "text": [
      "파일에 내용이 작성되었습니다\n"
     ]
    }
   ],
   "source": [
    "#open//파일쓰기//추가\n",
    "\n",
    "f = open(\"c:\\\\csh\\\\test111.txt\", \"a\",encoding=\"utf-8\") # 파일 쓰기(쓰기 모드), // w = 쓰기보드, r = 읽기모드, a = 추가모드\n",
    "contents = f.write(\"새로운 줄 작성\\n\") #파일에 내용이 추가됨\n",
    "print(\"파일에 내용이 작성되었습니다\") # 파일 내용 출력\n",
    "f.close() # 파일 닫기  // 항상 파일을 열었으면 닫아야함."
   ]
  },
  {
   "cell_type": "code",
   "execution_count": 77,
   "id": "291b86d7",
   "metadata": {},
   "outputs": [],
   "source": [
    "f = open(\"c:\\\\csh\\\\삼육구.txt\", \"w\",encoding=\"utf-8\") # 파일 쓰기(쓰기 모드), // w = 쓰기보드, r = 읽기모드, a = 추가모드\n",
    "num3 = list(range(0,100,3))\n",
    "num5 = list(range(0,100,5))\n",
    "for x in range(1,101,1):\n",
    "    if x in num3 and x in num5:\n",
    "        f.write(\"오예\\n\") # 3과 5의 배수인 경우\n",
    "    elif x in num3:\n",
    "        f.write(\"짝\\n\")\n",
    "    elif x in num5:\n",
    "        f.write(\"오\\n\")\n",
    "    else:\n",
    "        f.write(str(x) + \"\\n\")\n",
    "# 파일 쓰기(쓰기 모드), // w = 쓰기보드, r = 읽기모드, a = 추가모드\n",
    "f.close() # 파일 닫기  // 항상 파일을 열었으면 닫아야함."
   ]
  },
  {
   "cell_type": "code",
   "execution_count": 87,
   "id": "3da0859e",
   "metadata": {},
   "outputs": [
    {
     "name": "stdout",
     "output_type": "stream",
     "text": [
      "score: 95, grade: A\n",
      "score: 85, grade: B\n",
      "score: 76, grade: C\n",
      "score: 88, grade: B\n",
      "score: 92, grade: A\n",
      "score: 67, grade: D\n",
      "score: 81, grade: B\n",
      "score: 73, grade: C\n",
      "score: 90, grade: A\n",
      "score: 100, grade: A\n",
      "점수와 등급이 score.txt 파일에 작성되었습니다.\n"
     ]
    }
   ],
   "source": [
    "scorelist=[ 95, 85, 76, 88, 92, 67, 81, 73, 90, 100]\n",
    "with open(\"c:\\\\csh\\\\score.txt\", \"w\", encoding=\"utf-8\") as f: # with 구문을 사용하여 파일 열기 //자동으로 열고 닫힘\n",
    "    for score in scorelist:\n",
    "        if score >= 90:\n",
    "            grade=\"A\"\n",
    "        elif score >= 80:\n",
    "            grade=\"B\"\n",
    "        elif score >= 70:\n",
    "            grade=\"C\"\n",
    "        elif score >= 60:\n",
    "            grade=\"D\"\n",
    "        else:\n",
    "            grade=\"E\"\n",
    "        f.write(f\"score: {score}, grade: {grade}\\n\") # 점수와 등급을 파일에 작성\n",
    "for score in scorelist:\n",
    "    if score >= 90:\n",
    "        grade=\"A\"\n",
    "    elif score >= 80:\n",
    "        grade=\"B\"\n",
    "    elif score >= 70:\n",
    "        grade=\"C\"\n",
    "    elif score >= 60:\n",
    "        grade=\"D\"\n",
    "    else:\n",
    "        grade=\"E\"\n",
    "    print(f\"score: {score}, grade: {grade}\") # 점수와 등급 출력\n",
    "print(\"점수와 등급이 score.txt 파일에 작성되었습니다.\") # 파일 작성 완료 메시지 출력"
   ]
  },
  {
   "cell_type": "code",
   "execution_count": 98,
   "id": "3a2bc69a",
   "metadata": {},
   "outputs": [
    {
     "name": "stdout",
     "output_type": "stream",
     "text": [
      "예외 발생: 점수는 0에서 100 사이여야 합니다.\n"
     ]
    }
   ],
   "source": [
    "scorelist=[ 95, 85, 76, 88, 1230, 67, 81, 73, 90, 120]\n",
    "try:\n",
    "    f= open(\"c:\\\\csh\\\\score2.txt\", \"w\", encoding=\"utf-8\")\n",
    "    for score in scorelist:\n",
    "        if  score>100 or score<0: # 점수가 100보다 크거나 0보다 작은 경우\n",
    "            f.write(\"error\")\n",
    "            raise ValueError(\"점수는 0에서 100 사이여야 합니다.\")\n",
    "        elif score >= 90:\n",
    "             grade=\"A\"\n",
    "\n",
    "        elif score >= 80:\n",
    "            grade=\"B\"\n",
    "        elif score >= 70:\n",
    "            grade=\"C\"\n",
    "        elif score >= 60:\n",
    "            grade=\"D\"   \n",
    "        else:\n",
    "            grade=\"E\"\n",
    "        f.write(f\"score: {score}, grade: {grade}\\n\") # 점수와 등급을 파일에 작성\n",
    "except ValueError as e: # 예외 처리\n",
    "    print(f\"예외 발생: {e}\") # 예외 메시지 출력 \n",
    "finally:\n",
    "    f.close() \n"
   ]
  },
  {
   "cell_type": "markdown",
   "id": "248216c4",
   "metadata": {},
   "source": [
    "## 표준 라이브러리"
   ]
  },
  {
   "cell_type": "code",
   "execution_count": 107,
   "id": "a8509e75",
   "metadata": {},
   "outputs": [
    {
     "name": "stdout",
     "output_type": "stream",
     "text": [
      "2025-01-22와 2025-08-14의 차이는 204일입니다.\n",
      "========================================\n",
      "whole classtime: 204 days\n",
      "left classtime: 37 days\n",
      "passed classtime:  167 days\n"
     ]
    }
   ],
   "source": [
    "# datetime 모듈\n",
    "import datetime\n",
    "day1 = datetime.date(2025, 1, 22) # 날짜 객체 생성\n",
    "day2 = datetime.date(2025, 8, 14) # 날짜 객체 생성\n",
    "diff1 = day2-day1 # 날짜 차이 계산\n",
    "diff2 = day2 - datetime.date.today() # 오늘 날짜와의 차이 계산\n",
    "print(f\"{day1}와 {day2}의 차이는 {diff1.days}일입니다.\") # 날짜 차이 출력\n",
    "print(\"=\"*40)\n",
    "print(\"whole classtime:\", diff1.days, \"days\") # 오늘 날짜와의 차이 출력\n",
    "print(\"left classtime:\", diff2.days,\"days\")\n",
    "print(\"passed classtime: \", diff1.days - diff2.days, \"days\") # 지난 수업 시간 출력"
   ]
  },
  {
   "cell_type": "code",
   "execution_count": null,
   "id": "cce5edb8",
   "metadata": {},
   "outputs": [
    {
     "name": "stdout",
     "output_type": "stream",
     "text": [
      "1998-05-13 은 수 요일입니다.\n"
     ]
    }
   ],
   "source": [
    "#요일확인\n",
    "\n",
    "days = [\"월\", \"화\", \"수\", \"목\", \"금\", \"토\", \"일\"] # 요일 리스트\n",
    "day = datetime.date(1998,5,13) # 날짜 객체 생성\n",
    "print(day, \"은\", days[day.weekday()], \"요일입니다.\") # 요일 // day.weekday()는 0부터 시작하는 요일 인덱스(숫자)"
   ]
  },
  {
   "cell_type": "code",
   "execution_count": 109,
   "id": "39a62c6a",
   "metadata": {},
   "outputs": [
    {
     "name": "stdout",
     "output_type": "stream",
     "text": [
      "1751953091.9871156\n"
     ]
    }
   ],
   "source": [
    "# time\n",
    "import time\n",
    "print(time.time()) # 현재 시간을 초 단위로 출력"
   ]
  },
  {
   "cell_type": "code",
   "execution_count": 112,
   "id": "c9c270bf",
   "metadata": {},
   "outputs": [
    {
     "name": "stdout",
     "output_type": "stream",
     "text": [
      "time.struct_time(tm_year=2025, tm_mon=7, tm_mday=8, tm_hour=14, tm_min=43, tm_sec=1, tm_wday=1, tm_yday=189, tm_isdst=0)\n",
      "2025\n",
      "7\n",
      "8\n"
     ]
    }
   ],
   "source": [
    "#time.localtime() # 현재 시간을 로컬 시간으로 변환\n",
    "tt = time.localtime(time.time()) # 현재 시간을 로컬 시간으로 변환\n",
    "print(tt) # 로컬 시간 출력\n",
    "print(tt.tm_year)\n",
    "print(tt.tm_mon) # 월\n",
    "print(tt.tm_mday) # 일\n",
    "\n"
   ]
  },
  {
   "cell_type": "code",
   "execution_count": null,
   "id": "79469e18",
   "metadata": {},
   "outputs": [],
   "source": [
    "import time as t\n",
    "str = \"ㄴ\"\n",
    "for i in range(1,101):\n",
    "    print(f\"{i}번째 반복입니다.\")\n",
    "    t.sleep(1) # 1초 대기\n",
    "    if i == 5:\n",
    "        print(\"5번째 반복에서 중단합니다.\")\n",
    "        break # 5번째 반복에서 중단 \n",
    "\n"
   ]
  },
  {
   "cell_type": "code",
   "execution_count": null,
   "id": "372bdf94",
   "metadata": {},
   "outputs": [
    {
     "name": "stdout",
     "output_type": "stream",
     "text": [
      "3.141592653589793\n",
      "2.718281828459045\n"
     ]
    }
   ],
   "source": [
    "# math모듈\n",
    "import math\n",
    "print(math.pi) # 원주율\n",
    "print(math.e) # 자연상수\n",
    "\n",
    "#gcd, lcn\n",
    "print(math.gcd(12, 15)) # 최대공약수\n",
    "print(math.lcm(12, 15)) # 최소공배수"
   ]
  },
  {
   "cell_type": "code",
   "execution_count": 119,
   "id": "c8e69e9c",
   "metadata": {},
   "outputs": [
    {
     "name": "stdout",
     "output_type": "stream",
     "text": [
      "6\n",
      "0.7912776892774485\n"
     ]
    }
   ],
   "source": [
    "#random 모듈\n",
    "import random\n",
    "print(random.randint(1,100)) # 0.0 이상 1.0 미만의 난수\n",
    "print(random.random()) # 0.0 이상 1.0 미만의 난수"
   ]
  },
  {
   "cell_type": "code",
   "execution_count": 260,
   "id": "ed25b3f2",
   "metadata": {},
   "outputs": [
    {
     "name": "stdout",
     "output_type": "stream",
     "text": [
      "로또번호:   [24, 38, 4, 31, 39, 13]\n"
     ]
    }
   ],
   "source": [
    "#random 예제\n",
    "import random\n",
    "def random_number():\n",
    "    return random.randint(1, 45)  # 1부터 45까지의 난수 생성\n",
    "\n",
    "lotto = [random_number() for _ in range(6)]  # 6개의 난수 생성\n",
    "status =1\n",
    "for x in range(0,6):\n",
    "    for y in range(0,6):\n",
    "        if x!=y:\n",
    "            if lotto[x] == lotto[y]:\n",
    "                status = 0\n",
    "                \n",
    "\n",
    "            elif lotto[x]!= lotto[y]:\n",
    "                \n",
    "                continue\n",
    "        else:\n",
    "            continue\n",
    "\n",
    "if status == 1:\n",
    "   print(\"로또번호:  \", lotto)\n",
    "if status == 0:\n",
    "   print(\"중복된 숫자가 있습니다. 다시 시도하세요.\")\n",
    "   print(\"로또번호:  \", lotto)\n",
    "   lotto = [random_number() for _ in range(6)]  # 중복된 숫자가 있을 경우 다시 생성\n",
    "   print(\"새로운 로또 번호:\", lotto)"
   ]
  },
  {
   "cell_type": "code",
   "execution_count": 249,
   "id": "3ebcd50e",
   "metadata": {},
   "outputs": [
    {
     "name": "stdout",
     "output_type": "stream",
     "text": [
      "8145060\n"
     ]
    }
   ],
   "source": [
    "# itertools 모듈\n",
    "import itertools\n",
    "lotto = itertools.combinations(range(1, 46), 6)  # 1부터 45까지의 숫자 중 6개를 조합\n",
    "print(len(list(lotto)))  # 조합의 개수 출력"
   ]
  },
  {
   "cell_type": "code",
   "execution_count": null,
   "id": "fea57451",
   "metadata": {},
   "outputs": [],
   "source": [
    "# functools.reduce\n",
    "\n"
   ]
  },
  {
   "cell_type": "markdown",
   "id": "3f5b10e7",
   "metadata": {},
   "source": [
    "## OS"
   ]
  },
  {
   "cell_type": "code",
   "execution_count": 207,
   "id": "d085b074",
   "metadata": {},
   "outputs": [
    {
     "ename": "TypeError",
     "evalue": "chdir() missing required argument 'path' (pos 1)",
     "output_type": "error",
     "traceback": [
      "\u001b[31m---------------------------------------------------------------------------\u001b[39m",
      "\u001b[31mTypeError\u001b[39m                                 Traceback (most recent call last)",
      "\u001b[36mCell\u001b[39m\u001b[36m \u001b[39m\u001b[32mIn[207]\u001b[39m\u001b[32m, line 3\u001b[39m\n\u001b[32m      1\u001b[39m \u001b[38;5;28;01mimport\u001b[39;00m\u001b[38;5;250m \u001b[39m\u001b[34;01mos\u001b[39;00m\n\u001b[32m      2\u001b[39m os.environ[\u001b[33m'\u001b[39m\u001b[33mPATH\u001b[39m\u001b[33m'\u001b[39m] \u001b[38;5;66;03m# 환경 변수 PATH 출력\u001b[39;00m\n\u001b[32m----> \u001b[39m\u001b[32m3\u001b[39m \u001b[43mos\u001b[49m\u001b[43m.\u001b[49m\u001b[43mchdir\u001b[49m\u001b[43m(\u001b[49m\u001b[43m)\u001b[49m \u001b[38;5;66;03m# 현재 작업 디렉토리 출력\u001b[39;00m\n\u001b[32m      4\u001b[39m os.getcwd() \u001b[38;5;66;03m# 현재 작업 디렉토리 출력\u001b[39;00m\n\u001b[32m      5\u001b[39m os.listdir() \u001b[38;5;66;03m# 현재 작업 디렉토리의 파일 목록 출력\u001b[39;00m\n",
      "\u001b[31mTypeError\u001b[39m: chdir() missing required argument 'path' (pos 1)"
     ]
    }
   ],
   "source": [
    "import os\n",
    "os.environ['PATH'] # 환경 변수 PATH 출력\n",
    "os.chdir() # 현재 작업 디렉토리 출력\n",
    "os.getcwd() # 현재 작업 디렉토리 출력\n",
    "os.listdir() # 현재 작업 디렉토리의 파일 목록 출력"
   ]
  },
  {
   "cell_type": "code",
   "execution_count": null,
   "id": "9a005621",
   "metadata": {},
   "outputs": [],
   "source": []
  }
 ],
 "metadata": {
  "kernelspec": {
   "display_name": "Python 3",
   "language": "python",
   "name": "python3"
  },
  "language_info": {
   "codemirror_mode": {
    "name": "ipython",
    "version": 3
   },
   "file_extension": ".py",
   "mimetype": "text/x-python",
   "name": "python",
   "nbconvert_exporter": "python",
   "pygments_lexer": "ipython3",
   "version": "3.13.3"
  }
 },
 "nbformat": 4,
 "nbformat_minor": 5
}
