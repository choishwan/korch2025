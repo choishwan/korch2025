{
 "cells": [
  {
   "cell_type": "markdown",
   "id": "2c095700",
   "metadata": {},
   "source": [
    "## 인덱싱(마스크)"
   ]
  },
  {
   "cell_type": "code",
   "execution_count": 6,
   "id": "b7f6a4d4",
   "metadata": {},
   "outputs": [
    {
     "name": "stdout",
     "output_type": "stream",
     "text": [
      "[[ 0.3304336   0.71287614 -0.73852971  0.09682633]\n",
      " [ 0.49170062  0.59214703 -1.77884127  1.27614223]\n",
      " [-0.4394498  -0.65241013  0.28946141 -0.21974413]\n",
      " [ 0.87920915  0.17426131  0.4750377   0.3060984 ]\n",
      " [ 0.39724503 -0.11136615  1.5228718   1.49324905]\n",
      " [ 0.57729402  0.17064992  0.387517   -1.29558718]\n",
      " [ 1.23756904 -0.30987616 -1.1649504   0.58934684]\n",
      " [-0.45962843  0.95922562  0.65522763 -1.05228715]]\n"
     ]
    }
   ],
   "source": [
    "# 난수 발생\n",
    "import numpy as np\n",
    "\n",
    "ran_data = np.random.randn(8,4)\n",
    "print(ran_data)\n"
   ]
  },
  {
   "cell_type": "code",
   "execution_count": 9,
   "id": "f51a39f0",
   "metadata": {},
   "outputs": [
    {
     "data": {
      "text/plain": [
       "array([ True, False,  True, False,  True, False,  True, False])"
      ]
     },
     "execution_count": 9,
     "metadata": {},
     "output_type": "execute_result"
    }
   ],
   "source": [
    "mask = np.array([True,False,True,False,True,False,True,False])\n",
    "mask"
   ]
  },
  {
   "cell_type": "code",
   "execution_count": 10,
   "id": "4216dbe1",
   "metadata": {},
   "outputs": [
    {
     "data": {
      "text/plain": [
       "array([[ 0.3304336 ,  0.71287614, -0.73852971,  0.09682633],\n",
       "       [-0.4394498 , -0.65241013,  0.28946141, -0.21974413],\n",
       "       [ 0.39724503, -0.11136615,  1.5228718 ,  1.49324905],\n",
       "       [ 1.23756904, -0.30987616, -1.1649504 ,  0.58934684]])"
      ]
     },
     "execution_count": 10,
     "metadata": {},
     "output_type": "execute_result"
    }
   ],
   "source": [
    "ran_data[mask]"
   ]
  },
  {
   "cell_type": "code",
   "execution_count": 11,
   "id": "b3f017d3",
   "metadata": {},
   "outputs": [
    {
     "data": {
      "text/plain": [
       "array(['apple', 'banana', 'kiwi', 'apple', 'banana', 'kiwi', 'melon',\n",
       "       'melon'], dtype='<U6')"
      ]
     },
     "execution_count": 11,
     "metadata": {},
     "output_type": "execute_result"
    }
   ],
   "source": [
    "fruits = np.array(['apple', 'banana', 'kiwi','apple', 'banana', 'kiwi','melon', 'melon'])\n",
    "fruits"
   ]
  },
  {
   "cell_type": "code",
   "execution_count": 15,
   "id": "813ac1f8",
   "metadata": {},
   "outputs": [
    {
     "data": {
      "text/plain": [
       "array([ True, False, False,  True, False, False, False, False])"
      ]
     },
     "execution_count": 15,
     "metadata": {},
     "output_type": "execute_result"
    }
   ],
   "source": [
    "fruits_mask = (fruits == 'apple')\n",
    "fruits_mask"
   ]
  },
  {
   "cell_type": "code",
   "execution_count": 16,
   "id": "210a890d",
   "metadata": {},
   "outputs": [
    {
     "data": {
      "text/plain": [
       "array([[ 0.3304336 ,  0.71287614, -0.73852971,  0.09682633],\n",
       "       [ 0.87920915,  0.17426131,  0.4750377 ,  0.3060984 ]])"
      ]
     },
     "execution_count": 16,
     "metadata": {},
     "output_type": "execute_result"
    }
   ],
   "source": [
    "ran_data[fruits_mask]"
   ]
  },
  {
   "cell_type": "code",
   "execution_count": 28,
   "id": "3ef2617b",
   "metadata": {},
   "outputs": [
    {
     "data": {
      "text/plain": [
       "array([[ 0.71287614, -0.73852971],\n",
       "       [ 0.59214703, -1.77884127],\n",
       "       [-0.65241013,  0.28946141],\n",
       "       [ 0.17426131,  0.4750377 ],\n",
       "       [-0.11136615,  1.5228718 ],\n",
       "       [ 0.17064992,  0.387517  ],\n",
       "       [-0.30987616, -1.1649504 ],\n",
       "       [ 0.95922562,  0.65522763]])"
      ]
     },
     "execution_count": 28,
     "metadata": {},
     "output_type": "execute_result"
    }
   ],
   "source": [
    "ran_data[(fruits == 'apple')|(fruits == 'banana'),1:3]\n",
    "\n",
    "ran_data[:,1:3]\n"
   ]
  },
  {
   "cell_type": "markdown",
   "id": "98e15aa8",
   "metadata": {},
   "source": [
    "## 인덱스와 마스크"
   ]
  },
  {
   "cell_type": "code",
   "execution_count": 29,
   "id": "c7427d9a",
   "metadata": {},
   "outputs": [
    {
     "data": {
      "text/plain": [
       "array([ True,  True, False,  True,  True,  True,  True, False])"
      ]
     },
     "execution_count": 29,
     "metadata": {},
     "output_type": "execute_result"
    }
   ],
   "source": [
    "ran_data[ :, 0] >0"
   ]
  },
  {
   "cell_type": "code",
   "execution_count": 32,
   "id": "087630dc",
   "metadata": {},
   "outputs": [
    {
     "data": {
      "text/plain": [
       "array([0.3304336 , 0.71287614, 0.09682633, 0.49170062, 0.59214703,\n",
       "       1.27614223, 0.28946141, 0.87920915, 0.17426131, 0.4750377 ,\n",
       "       0.3060984 , 0.39724503, 1.5228718 , 1.49324905, 0.57729402,\n",
       "       0.17064992, 0.387517  , 1.23756904, 0.58934684, 0.95922562,\n",
       "       0.65522763])"
      ]
     },
     "execution_count": 32,
     "metadata": {},
     "output_type": "execute_result"
    }
   ],
   "source": [
    "ran_data[ran_data[:,:]>0]"
   ]
  },
  {
   "cell_type": "code",
   "execution_count": null,
   "id": "9a92e958",
   "metadata": {},
   "outputs": [
    {
     "data": {
      "text/plain": [
       "array([False, False,  True, False, False, False, False,  True])"
      ]
     },
     "execution_count": 35,
     "metadata": {},
     "output_type": "execute_result"
    }
   ],
   "source": [
    "#0710 오전 과제\n",
    "\n",
    "ran_data[:,0]<0"
   ]
  },
  {
   "cell_type": "code",
   "execution_count": 36,
   "id": "40a3340c",
   "metadata": {},
   "outputs": [
    {
     "data": {
      "text/plain": [
       "array([[ 0.28946141, -0.21974413],\n",
       "       [ 0.65522763, -1.05228715]])"
      ]
     },
     "execution_count": 36,
     "metadata": {},
     "output_type": "execute_result"
    }
   ],
   "source": [
    "ran_data[ran_data[:,0]<0,2:4]"
   ]
  },
  {
   "cell_type": "code",
   "execution_count": 37,
   "id": "9194c907",
   "metadata": {},
   "outputs": [
    {
     "data": {
      "text/plain": [
       "array([[ 0.3304336 ,  0.71287614, -0.73852971,  0.09682633],\n",
       "       [ 0.49170062,  0.59214703, -1.77884127,  1.27614223],\n",
       "       [-0.4394498 , -0.65241013,  0.28946141, -0.21974413],\n",
       "       [ 0.87920915,  0.17426131,  0.4750377 ,  0.3060984 ],\n",
       "       [ 0.39724503, -0.11136615,  1.5228718 ,  1.49324905],\n",
       "       [ 0.57729402,  0.17064992,  0.387517  , -1.29558718],\n",
       "       [ 1.23756904, -0.30987616, -1.1649504 ,  0.58934684],\n",
       "       [-0.45962843,  0.95922562,  0.65522763, -1.05228715]])"
      ]
     },
     "execution_count": 37,
     "metadata": {},
     "output_type": "execute_result"
    }
   ],
   "source": [
    "ran_data"
   ]
  },
  {
   "cell_type": "code",
   "execution_count": null,
   "id": "b705685f",
   "metadata": {},
   "outputs": [],
   "source": []
  }
 ],
 "metadata": {
  "kernelspec": {
   "display_name": "Python 3",
   "language": "python",
   "name": "python3"
  },
  "language_info": {
   "codemirror_mode": {
    "name": "ipython",
    "version": 3
   },
   "file_extension": ".py",
   "mimetype": "text/x-python",
   "name": "python",
   "nbconvert_exporter": "python",
   "pygments_lexer": "ipython3",
   "version": "3.13.3"
  }
 },
 "nbformat": 4,
 "nbformat_minor": 5
}
